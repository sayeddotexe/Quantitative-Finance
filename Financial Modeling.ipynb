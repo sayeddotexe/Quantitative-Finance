{
  "cells": [
    {
      "cell_type": "code",
      "execution_count": 26,
      "metadata": {
        "id": "BnUJdaLQh5MK"
      },
      "outputs": [],
      "source": [
        "import numpy as np\n",
        "import matplotlib.pyplot as plt\n",
        "import math"
      ]
    },
    {
      "cell_type": "markdown",
      "metadata": {
        "id": "szd8PuktiHiT"
      },
      "source": [
        "# Pre assigning Variables\n",
        "* X = Strike Price\n",
        "* volatility = Annual Volatility\n",
        "* maturity = time to maturity\n",
        "* riskfree = annual interest rate riskfree\n",
        "* timestep = timestep (for binomial trees) "
      ]
    },
    {
      "cell_type": "code",
      "execution_count": 27,
      "metadata": {
        "id": "YJsblUMtikRv"
      },
      "outputs": [],
      "source": [
        "X1 = 120 # Option with Strike price 120p\n",
        "X2 = 96 # Option with Strike price 96p"
      ]
    },
    {
      "cell_type": "code",
      "execution_count": 28,
      "metadata": {
        "id": "-x9s7Glpi2Rh"
      },
      "outputs": [],
      "source": [
        "s0 = 100 # Current Stock Price S0 = 100p\n",
        "volatility = 0.2 # Annual volitility"
      ]
    },
    {
      "cell_type": "code",
      "execution_count": 29,
      "metadata": {
        "id": "xQKNyxVGmEwP"
      },
      "outputs": [],
      "source": [
        "maturity = 0.5 # time to maturity equal to 6 months (1/2 of a year).\n",
        "riskfree = 0.05  # annual interest rate (with continuous compounding) of 5% riskless\n",
        "timestep = round(182.5)"
      ]
    },
    {
      "cell_type": "markdown",
      "metadata": {
        "id": "JAWzupRim-LH"
      },
      "source": [
        "# Black Scholes Model\n",
        "* The model is used to find the current value of a call option whose ultimate value depends on the price of the stock at the expiration date. Because the stock price keeps changing, the value of this call option will change too."
      ]
    },
    {
      "cell_type": "code",
      "execution_count": 30,
      "metadata": {
        "id": "uwI_e6jqn9lI"
      },
      "outputs": [],
      "source": [
        "def norm_cdf(x):\n",
        "    \"\"\"\n",
        "    Calculates the cumulative distribution function of the standard normal distribution.\n",
        "\n",
        "    Parameters:\n",
        "    x (float): the value to evaluate the CDF at\n",
        "\n",
        "    Returns:\n",
        "    float: the value of the CDF at x\n",
        "    \"\"\"\n",
        "    return (1.0 + math.erf(x / math.sqrt(2.0))) / 2.0"
      ]
    },
    {
      "cell_type": "code",
      "execution_count": 31,
      "metadata": {
        "id": "YblnbGtRm8gg"
      },
      "outputs": [],
      "source": [
        "def bs(S, K, T, r, sigma, option_type):\n",
        "    \"\"\"\n",
        "    Calculates the price of a European call or put option using the Black-Scholes formula.\n",
        "\n",
        "    Parameters:\n",
        "    S (float): current price of the underlying asset\n",
        "    K (float): strike price of the option\n",
        "    T (float): time to expiration of the option, expressed in years\n",
        "    r (float): risk-free interest rate, expressed as a decimal\n",
        "    sigma (float): annualized volatility of the underlying asset, expressed as a decimal\n",
        "    option_type (str): 'call' or 'put'\n",
        "\n",
        "    Returns:\n",
        "    float: the price of the option according to the Black-Scholes formula\n",
        "    \"\"\"\n",
        "\n",
        "    d1 = (math.log(S/K) + (r + 0.5 * sigma**2) * T) / (sigma * math.sqrt(T))\n",
        "    d2 = d1 - sigma * math.sqrt(T)\n",
        "\n",
        "    if option_type == 'call':\n",
        "        return S * norm_cdf(d1) - K * math.exp(-r * T) * norm_cdf(d2)\n",
        "    elif option_type == 'put':\n",
        "        return K * math.exp(-r * T) * norm_cdf(-d2) - S * norm_cdf(-d1)\n",
        "    else:\n",
        "        raise ValueError(\"Option type must be 'call' or 'put'.\")\n",
        "\n"
      ]
    },
    {
      "cell_type": "code",
      "execution_count": 32,
      "metadata": {
        "id": "IXL4xkhOn_wv",
        "colab": {
          "base_uri": "https://localhost:8080/"
        },
        "outputId": "6d5d706a-a273-487c-bc71-d48d68234750"
      },
      "outputs": [
        {
          "output_type": "stream",
          "name": "stdout",
          "text": [
            "X1 Put price: 18.05980466595578 X1 Call price: 1.0226152225558902\n",
            "X2 Put price: 2.8519851786376655 X2 Call price: 9.222233623917731\n"
          ]
        }
      ],
      "source": [
        "x1putprice = bs(S=s0, K=X1, T=maturity, r=riskfree, sigma=volatility, option_type='put')\n",
        "x1callprice = bs(S=s0, K=X1, T=maturity, r=riskfree, sigma=volatility, option_type='call')\n",
        "x2putprice = bs(S=s0, K=X2, T=maturity, r=riskfree, sigma=volatility, option_type='put')\n",
        "x2callprice = bs(S=s0, K=X2, T=maturity, r=riskfree, sigma=volatility, option_type='call')\n",
        "print(\"X1 Put price:\",x1putprice,\"X1 Call price:\",x1callprice)\n",
        "print(\"X2 Put price:\",x2putprice,\"X2 Call price:\",x2callprice)"
      ]
    },
    {
      "cell_type": "markdown",
      "metadata": {
        "id": "lF4bgZxnpNdA"
      },
      "source": [
        "# Binomial tree Method\n",
        "* The binomial option pricing model is a risk-free method for estimating the value of path-dependent alternatives. With this model, investors can determine how likely they are to buy or sell at a given price in the future."
      ]
    },
    {
      "cell_type": "code",
      "execution_count": 33,
      "metadata": {
        "id": "I2p-fh3HqEbc"
      },
      "outputs": [],
      "source": [
        "def trees(S, K, T, r, sigma, n, option_type, exercise_type):\n",
        "    \"\"\"\n",
        "    Calculates the price of a European or American call or put option using the binomial tree method.\n",
        "\n",
        "    Parameters:\n",
        "    S (float): current price of the underlying asset\n",
        "    K (float): strike price of the option\n",
        "    T (float): time to expiration of the option, expressed in years\n",
        "    r (float): risk-free interest rate, expressed as a decimal\n",
        "    sigma (float): annualized volatility of the underlying asset, expressed as a decimal\n",
        "    n (int): number of time steps in the binomial tree\n",
        "    option_type (str): 'call' or 'put'\n",
        "    exercise_type (str): 'European' or 'American'\n",
        "\n",
        "    Returns:\n",
        "    float: the price of the option according to the binomial tree method\n",
        "    \"\"\"\n",
        "    \n",
        "    delta_t = T / n\n",
        "    u = math.exp(sigma * math.sqrt(delta_t))\n",
        "    d = 1 / u\n",
        "    p = (math.exp(r * delta_t) - d) / (u - d)\n",
        "   \n",
        "   \n",
        "    \n",
        "\n",
        "    # Compute the stock prices at all nodes in the tree\n",
        "    stock_prices = []\n",
        "    for i in range(n + 1):\n",
        "        stock_prices.append(S * u**(n - i) * d**i)\n",
        "\n",
        "    # Compute the option values at the final nodes in the tree\n",
        "    option_values = []\n",
        "    for price in stock_prices:\n",
        "        if option_type == 'call':\n",
        "            option_values.append(max(0, price - K))\n",
        "        elif option_type == 'put':\n",
        "            option_values.append(max(0, K - price))\n",
        "\n",
        "    # Backward induction to compute the option values at earlier nodes\n",
        "    for i in range(n - 1, -1, -1):\n",
        "        for j in range(i + 1):\n",
        "            option_values[j] = math.exp(-r * delta_t) * (p * option_values[j] + (1 - p) * option_values[j + 1])\n",
        "            if exercise_type == 'American':\n",
        "                stock_prices[j] /= u\n",
        "                early_exercise = 0\n",
        "                if option_type == 'call':\n",
        "                    early_exercise = max(0, stock_prices[j] - K)\n",
        "                elif option_type == 'put':\n",
        "                    early_exercise = max(0, K - stock_prices[j])\n",
        "                option_values[j] = max(option_values[j], early_exercise)\n",
        "                \n",
        "                \n",
        "\n",
        "  \n",
        "\n",
        "    return option_values[0]"
      ]
    },
    {
      "cell_type": "code",
      "execution_count": 34,
      "metadata": {
        "id": "jjMZr23rqFLj",
        "colab": {
          "base_uri": "https://localhost:8080/"
        },
        "outputId": "338d60ba-0531-4757-f0e9-dd85577f4b50"
      },
      "outputs": [
        {
          "output_type": "stream",
          "name": "stdout",
          "text": [
            "X1 Euro Put price: 18.059758635803597 X1 Euro Call price: 1.0225691924034679\n",
            "X1 American Put price: 19.999999999999915 X1 American Call price: 1.0225691924034679\n",
            "X2 Euro Put price: 2.847842715215464 X2 Euro Call price: 9.218091160495094\n",
            "X2 American Put price: 2.98219776299529 X2 American Call price: 9.218091160495094\n"
          ]
        }
      ],
      "source": [
        "x1puteuro = trees(S=s0, K=X1, T=maturity, r=riskfree, sigma=volatility, n=timestep, option_type='put', exercise_type='European')\n",
        "x1calleuro = trees(S=s0, K=X1, T=maturity, r=riskfree, sigma=volatility, n=timestep, option_type='call', exercise_type='European')\n",
        "x1putamerican = trees(S=s0, K=X1, T=maturity, r=riskfree, sigma=volatility, n=timestep, option_type='put', exercise_type='American')\n",
        "x1callamerican = trees(S=s0, K=X1, T=maturity, r=riskfree, sigma=volatility, n=timestep, option_type='call', exercise_type='American')\n",
        "x2puteuro = trees(S=s0, K=X2, T=maturity, r=riskfree, sigma=volatility, n=timestep, option_type='put', exercise_type='European')\n",
        "x2calleuro = trees(S=s0, K=X2, T=maturity, r=riskfree, sigma=volatility, n=timestep, option_type='call', exercise_type='European')\n",
        "x2putamerican = trees(S=s0, K=X2, T=maturity, r=riskfree, sigma=volatility, n=timestep, option_type='put', exercise_type='American')\n",
        "x2callamerican = trees(S=s0, K=X2, T=maturity, r=riskfree, sigma=volatility, n=timestep, option_type='call', exercise_type='American')\n",
        "print(\"X1 Euro Put price:\",x1puteuro,\"X1 Euro Call price:\",x1calleuro)\n",
        "print(\"X1 American Put price:\",x1putamerican,\"X1 American Call price:\",x1callamerican)\n",
        "print(\"X2 Euro Put price:\",x2puteuro,\"X2 Euro Call price:\",x2calleuro)\n",
        "print(\"X2 American Put price:\",x2putamerican,\"X2 American Call price:\",x2callamerican)\n"
      ]
    },
    {
      "cell_type": "markdown",
      "metadata": {
        "id": "R6is5Gf3q8RN"
      },
      "source": [
        "# Monte Carlo Method\n",
        "* Monte Carlo is used for option pricing where numerous random paths for the price of an underlying asset are generated, each having an associated payoff. These payoffs are then discounted back to the present and averaged to get the option price."
      ]
    },
    {
      "cell_type": "code",
      "execution_count": 35,
      "metadata": {
        "id": "0-w3qS87rRB0"
      },
      "outputs": [],
      "source": [
        "def montecarlo(S, K, T, r, sigma, n, option_type, num_simulations=100000):\n",
        "    \"\"\"\n",
        "    Calculates the price of a European call or put option using the Monte Carlo method.\n",
        "\n",
        "    Parameters:\n",
        "    S (float): current price of the underlying asset\n",
        "    K (float): strike price of the option\n",
        "    T (float): time to expiration of the option, expressed in years\n",
        "    r (float): risk-free interest rate, expressed as a decimal\n",
        "    sigma (float): annualized volatility of the underlying asset, expressed as a decimal\n",
        "    n (int): number of time steps in the simulation\n",
        "    option_type (str): 'call' or 'put'\n",
        "    num_simulations (int): number of simulations to run\n",
        "\n",
        "    Returns:\n",
        "    float: the price of the option according to the Monte Carlo method\n",
        "    \"\"\"\n",
        "\n",
        "    delta_t = T / n\n",
        "    S_values = np.zeros(num_simulations)\n",
        "    for i in range(num_simulations):\n",
        "        # Generate a random path for the underlying asset price\n",
        "        price = S\n",
        "        for j in range(n):\n",
        "            price *= np.exp((r - 0.5 * sigma**2) * delta_t + sigma * np.random.normal() * np.sqrt(delta_t))\n",
        "        S_values[i] = price\n",
        "\n",
        "    # Calculate the discounted payoff for each simulation\n",
        "    if option_type == 'call':\n",
        "        payoffs = np.maximum(S_values - K, 0)\n",
        "    elif option_type == 'put':\n",
        "        payoffs = np.maximum(K - S_values, 0)\n",
        "\n",
        "    # Calculate the option price as the mean of the discounted payoffs\n",
        "    option_price = np.exp(-r * T) * np.mean(payoffs)\n",
        "\n",
        "    return option_price"
      ]
    },
    {
      "cell_type": "code",
      "execution_count": 36,
      "metadata": {
        "colab": {
          "base_uri": "https://localhost:8080/"
        },
        "id": "03tVM-449Nff",
        "outputId": "1947a454-72fa-4f6b-8420-ba0b6e766f28"
      },
      "outputs": [
        {
          "output_type": "stream",
          "name": "stdout",
          "text": [
            "X1 Put price: 18.042037030029395 X1 Call price: 1.0117819571556323\n",
            "X2 Put price: 2.843940025070798 X2 Call price: 9.17444300964768\n"
          ]
        }
      ],
      "source": [
        "x1putmonte =  montecarlo(S=s0, K=X1, T=maturity, r=riskfree, sigma=volatility, n=timestep, option_type='put', num_simulations=100000)\n",
        "x1callmonte = montecarlo(S=s0, K=X1, T=maturity, r=riskfree, sigma=volatility, n=timestep, option_type='call', num_simulations=100000)\n",
        "x2putmonte =  montecarlo(S=s0, K=X2, T=maturity, r=riskfree, sigma=volatility, n=timestep, option_type='put', num_simulations=100000)\n",
        "x2callmonte = montecarlo(S=s0, K=X2, T=maturity, r=riskfree, sigma=volatility, n=timestep, option_type='call', num_simulations=100000)\n",
        "print(\"X1 Put price:\",x1putmonte,\"X1 Call price:\",x1callmonte)\n",
        "print(\"X2 Put price:\",x2putmonte,\"X2 Call price:\",x2callmonte)"
      ]
    }
  ],
  "metadata": {
    "colab": {
      "provenance": []
    },
    "kernelspec": {
      "display_name": "Python 3",
      "name": "python3"
    },
    "language_info": {
      "name": "python"
    }
  },
  "nbformat": 4,
  "nbformat_minor": 0
}
